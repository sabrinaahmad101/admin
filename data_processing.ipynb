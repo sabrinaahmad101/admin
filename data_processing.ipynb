{
 "cells": [
  {
   "cell_type": "code",
   "execution_count": null,
   "metadata": {},
   "outputs": [],
   "source": []
  },
  {
   "cell_type": "code",
   "execution_count": 4,
   "metadata": {},
   "outputs": [],
   "source": [
    "import pandas as pd\n",
    "import numpy as np\n",
    "from sklearn.model_selection import train_test_split"
   ]
  },
  {
   "cell_type": "code",
   "execution_count": 5,
   "metadata": {},
   "outputs": [],
   "source": [
    "ratings = pd.read_csv('CustomData/ratings.csv')\n",
    "ratings=ratings[1:100000]\n",
    "x_train, y_test= train_test_split(ratings, test_size=0.2, random_state=None)\n",
    "dic = x_train\n",
    "dic1= y_test\n",
    "file = 'C:\\\\Users\\\\sabri\\\\Desktop\\\\hyrid_RS\\\\dt\\\\IT556_Worthless_without_coffee_DA-IICT_Final_Project-master\\\\x_train.csv'\n",
    "dic.to_csv(file, sep=',')\n",
    "file = 'C:\\\\Users\\\\sabri\\\\Desktop\\\\hyrid_RS\\\\dt\\\\IT556_Worthless_without_coffee_DA-IICT_Final_Project-master\\\\x_test.csv'\n",
    "dic1.to_csv(file, sep=',')\n"
   ]
  },
  {
   "cell_type": "code",
   "execution_count": 6,
   "metadata": {},
   "outputs": [
    {
     "data": {
      "text/plain": [
       "79999"
      ]
     },
     "execution_count": 6,
     "metadata": {},
     "output_type": "execute_result"
    }
   ],
   "source": [
    "len(x_train)"
   ]
  },
  {
   "cell_type": "code",
   "execution_count": 8,
   "metadata": {},
   "outputs": [
    {
     "name": "stdout",
     "output_type": "stream",
     "text": [
      "user_id    5518\n",
      "book_id     999\n",
      "rating        5\n",
      "dtype: int64\n"
     ]
    }
   ],
   "source": [
    "r = x_train.max()\n",
    "print(r)"
   ]
  },
  {
   "cell_type": "code",
   "execution_count": null,
   "metadata": {},
   "outputs": [],
   "source": []
  }
 ],
 "metadata": {
  "kernelspec": {
   "display_name": "Python 3",
   "language": "python",
   "name": "python3"
  },
  "language_info": {
   "codemirror_mode": {
    "name": "ipython",
    "version": 3
   },
   "file_extension": ".py",
   "mimetype": "text/x-python",
   "name": "python",
   "nbconvert_exporter": "python",
   "pygments_lexer": "ipython3",
   "version": "3.8.5"
  }
 },
 "nbformat": 4,
 "nbformat_minor": 4
}
